{
 "cells": [
  {
   "cell_type": "markdown",
   "metadata": {},
   "source": [
    "# Forade"
   ]
  },
  {
   "cell_type": "markdown",
   "metadata": {},
   "source": [
    "Using the ImageMagick library"
   ]
  },
  {
   "cell_type": "markdown",
   "metadata": {},
   "source": [
    "#### Install required packages"
   ]
  },
  {
   "cell_type": "code",
   "execution_count": 1,
   "metadata": {},
   "outputs": [
    {
     "name": "stdout",
     "output_type": "stream",
     "text": [
      "Requirement already satisfied: Wand in ./.venv/lib/python3.12/site-packages (0.6.13)\n",
      "Note: you may need to restart the kernel to use updated packages.\n"
     ]
    }
   ],
   "source": [
    "%pip install Wand"
   ]
  },
  {
   "cell_type": "markdown",
   "metadata": {},
   "source": [
    "#### Import libraries"
   ]
  },
  {
   "cell_type": "code",
   "execution_count": 2,
   "metadata": {},
   "outputs": [],
   "source": [
    "from wand.image import Image\n",
    "from wand.drawing import Drawing\n",
    "from wand.display import display\n",
    "from wand.color import Color\n",
    "import os"
   ]
  },
  {
   "cell_type": "markdown",
   "metadata": {},
   "source": [
    "#### Generator for characters"
   ]
  },
  {
   "cell_type": "code",
   "execution_count": 3,
   "metadata": {},
   "outputs": [],
   "source": [
    "def get_character():\n",
    "    start = 0x0C85\n",
    "    end = 0x0CBA\n",
    "    ignore = (0x0C8C, 0x0C8D, 0x0C91, 0x0CA9, 0x0CB1, 0x0CB4)\n",
    "    for code in range(start, end):\n",
    "        if code in ignore:\n",
    "            continue\n",
    "        yield chr(code)"
   ]
  },
  {
   "cell_type": "markdown",
   "metadata": {},
   "source": [
    "#### Global variables"
   ]
  },
  {
   "cell_type": "code",
   "execution_count": 4,
   "metadata": {},
   "outputs": [],
   "source": [
    "font_file = \"NotoSansKannada-Bold.ttf\"\n",
    "font_size = 36\n",
    "font_color = Color(\"black\")\n",
    "background_color = Color(\"white\")\n",
    "output_dir = \"output\"\n",
    "img_size = (64, 64)\n",
    "images = []"
   ]
  },
  {
   "cell_type": "markdown",
   "metadata": {},
   "source": [
    "#### Draw characters as images"
   ]
  },
  {
   "cell_type": "code",
   "execution_count": 5,
   "metadata": {},
   "outputs": [],
   "source": [
    "for char in get_character():\n",
    "    img = Image(width=img_size[0], height=img_size[1], background=background_color)\n",
    "    img.type = \"grayscale\"\n",
    "    draw = Drawing()\n",
    "    draw.font = font_file\n",
    "    draw.font_size = font_size\n",
    "    draw.fill_color = font_color\n",
    "    font_metrics = draw.get_font_metrics(img, char, False)\n",
    "    # print(f\"char: {char}, width: {font_metrics.text_width}, height: {font_metrics.text_height}, positon: ({int(font_metrics.text_width / 2)}, {int(font_metrics.text_height / 2)})\")\n",
    "    draw_position = (int(img_size[0] / 2 - font_metrics.text_width / 2), int(img_size[1] / 2 + font_metrics.text_height / 2))\n",
    "    draw.text(draw_position[0], draw_position[1], char)\n",
    "    draw(img)\n",
    "    images.append(img)"
   ]
  },
  {
   "cell_type": "markdown",
   "metadata": {},
   "source": [
    "#### Write Images to output directory"
   ]
  },
  {
   "cell_type": "code",
   "execution_count": 6,
   "metadata": {},
   "outputs": [],
   "source": [
    "os.makedirs(output_dir, exist_ok=True)\n",
    "\n",
    "for i, img in enumerate(images):\n",
    "    img.save(filename=os.path.join(output_dir, f\"{i}.png\"))"
   ]
  }
 ],
 "metadata": {
  "kernelspec": {
   "display_name": ".venv",
   "language": "python",
   "name": "python3"
  },
  "language_info": {
   "codemirror_mode": {
    "name": "ipython",
    "version": 3
   },
   "file_extension": ".py",
   "mimetype": "text/x-python",
   "name": "python",
   "nbconvert_exporter": "python",
   "pygments_lexer": "ipython3",
   "version": "3.12.5"
  }
 },
 "nbformat": 4,
 "nbformat_minor": 2
}
